{
 "cells": [
  {
   "cell_type": "code",
   "execution_count": 7,
   "metadata": {},
   "outputs": [],
   "source": [
    "import numpy as np\n",
    "import pandas as pd\n",
    "import matplotlib.pyplot as plt"
   ]
  },
  {
   "cell_type": "code",
   "execution_count": 2,
   "metadata": {},
   "outputs": [],
   "source": [
    "df = pd.read_csv('train.csv', sep=';')"
   ]
  },
  {
   "cell_type": "code",
   "execution_count": 3,
   "metadata": {},
   "outputs": [
    {
     "data": {
      "text/html": [
       "<div>\n",
       "<style scoped>\n",
       "    .dataframe tbody tr th:only-of-type {\n",
       "        vertical-align: middle;\n",
       "    }\n",
       "\n",
       "    .dataframe tbody tr th {\n",
       "        vertical-align: top;\n",
       "    }\n",
       "\n",
       "    .dataframe thead th {\n",
       "        text-align: right;\n",
       "    }\n",
       "</style>\n",
       "<table border=\"1\" class=\"dataframe\">\n",
       "  <thead>\n",
       "    <tr style=\"text-align: right;\">\n",
       "      <th></th>\n",
       "      <th>WELL</th>\n",
       "      <th>DEPTH_MD</th>\n",
       "      <th>X_LOC</th>\n",
       "      <th>Y_LOC</th>\n",
       "      <th>Z_LOC</th>\n",
       "      <th>GROUP</th>\n",
       "      <th>FORMATION</th>\n",
       "      <th>CALI</th>\n",
       "      <th>RSHA</th>\n",
       "      <th>RMED</th>\n",
       "      <th>...</th>\n",
       "      <th>ROP</th>\n",
       "      <th>DTS</th>\n",
       "      <th>DCAL</th>\n",
       "      <th>DRHO</th>\n",
       "      <th>MUDWEIGHT</th>\n",
       "      <th>RMIC</th>\n",
       "      <th>ROPA</th>\n",
       "      <th>RXO</th>\n",
       "      <th>FORCE_2020_LITHOFACIES_LITHOLOGY</th>\n",
       "      <th>FORCE_2020_LITHOFACIES_CONFIDENCE</th>\n",
       "    </tr>\n",
       "  </thead>\n",
       "  <tbody>\n",
       "    <tr>\n",
       "      <td>0</td>\n",
       "      <td>15/9-13</td>\n",
       "      <td>494.528</td>\n",
       "      <td>437641.96875</td>\n",
       "      <td>6470972.5</td>\n",
       "      <td>-469.501831</td>\n",
       "      <td>NORDLAND GP.</td>\n",
       "      <td>NaN</td>\n",
       "      <td>19.480835</td>\n",
       "      <td>NaN</td>\n",
       "      <td>1.611410</td>\n",
       "      <td>...</td>\n",
       "      <td>34.636410</td>\n",
       "      <td>NaN</td>\n",
       "      <td>NaN</td>\n",
       "      <td>-0.574928</td>\n",
       "      <td>NaN</td>\n",
       "      <td>NaN</td>\n",
       "      <td>NaN</td>\n",
       "      <td>NaN</td>\n",
       "      <td>65000</td>\n",
       "      <td>1.0</td>\n",
       "    </tr>\n",
       "    <tr>\n",
       "      <td>1</td>\n",
       "      <td>15/9-13</td>\n",
       "      <td>494.680</td>\n",
       "      <td>437641.96875</td>\n",
       "      <td>6470972.5</td>\n",
       "      <td>-469.653809</td>\n",
       "      <td>NORDLAND GP.</td>\n",
       "      <td>NaN</td>\n",
       "      <td>19.468800</td>\n",
       "      <td>NaN</td>\n",
       "      <td>1.618070</td>\n",
       "      <td>...</td>\n",
       "      <td>34.636410</td>\n",
       "      <td>NaN</td>\n",
       "      <td>NaN</td>\n",
       "      <td>-0.570188</td>\n",
       "      <td>NaN</td>\n",
       "      <td>NaN</td>\n",
       "      <td>NaN</td>\n",
       "      <td>NaN</td>\n",
       "      <td>65000</td>\n",
       "      <td>1.0</td>\n",
       "    </tr>\n",
       "    <tr>\n",
       "      <td>2</td>\n",
       "      <td>15/9-13</td>\n",
       "      <td>494.832</td>\n",
       "      <td>437641.96875</td>\n",
       "      <td>6470972.5</td>\n",
       "      <td>-469.805786</td>\n",
       "      <td>NORDLAND GP.</td>\n",
       "      <td>NaN</td>\n",
       "      <td>19.468800</td>\n",
       "      <td>NaN</td>\n",
       "      <td>1.626459</td>\n",
       "      <td>...</td>\n",
       "      <td>34.779556</td>\n",
       "      <td>NaN</td>\n",
       "      <td>NaN</td>\n",
       "      <td>-0.574245</td>\n",
       "      <td>NaN</td>\n",
       "      <td>NaN</td>\n",
       "      <td>NaN</td>\n",
       "      <td>NaN</td>\n",
       "      <td>65000</td>\n",
       "      <td>1.0</td>\n",
       "    </tr>\n",
       "    <tr>\n",
       "      <td>3</td>\n",
       "      <td>15/9-13</td>\n",
       "      <td>494.984</td>\n",
       "      <td>437641.96875</td>\n",
       "      <td>6470972.5</td>\n",
       "      <td>-469.957794</td>\n",
       "      <td>NORDLAND GP.</td>\n",
       "      <td>NaN</td>\n",
       "      <td>19.459282</td>\n",
       "      <td>NaN</td>\n",
       "      <td>1.621594</td>\n",
       "      <td>...</td>\n",
       "      <td>39.965164</td>\n",
       "      <td>NaN</td>\n",
       "      <td>NaN</td>\n",
       "      <td>-0.586315</td>\n",
       "      <td>NaN</td>\n",
       "      <td>NaN</td>\n",
       "      <td>NaN</td>\n",
       "      <td>NaN</td>\n",
       "      <td>65000</td>\n",
       "      <td>1.0</td>\n",
       "    </tr>\n",
       "    <tr>\n",
       "      <td>4</td>\n",
       "      <td>15/9-13</td>\n",
       "      <td>495.136</td>\n",
       "      <td>437641.96875</td>\n",
       "      <td>6470972.5</td>\n",
       "      <td>-470.109772</td>\n",
       "      <td>NORDLAND GP.</td>\n",
       "      <td>NaN</td>\n",
       "      <td>19.453100</td>\n",
       "      <td>NaN</td>\n",
       "      <td>1.602679</td>\n",
       "      <td>...</td>\n",
       "      <td>57.483765</td>\n",
       "      <td>NaN</td>\n",
       "      <td>NaN</td>\n",
       "      <td>-0.597914</td>\n",
       "      <td>NaN</td>\n",
       "      <td>NaN</td>\n",
       "      <td>NaN</td>\n",
       "      <td>NaN</td>\n",
       "      <td>65000</td>\n",
       "      <td>1.0</td>\n",
       "    </tr>\n",
       "  </tbody>\n",
       "</table>\n",
       "<p>5 rows × 29 columns</p>\n",
       "</div>"
      ],
      "text/plain": [
       "      WELL  DEPTH_MD         X_LOC      Y_LOC       Z_LOC         GROUP  \\\n",
       "0  15/9-13   494.528  437641.96875  6470972.5 -469.501831  NORDLAND GP.   \n",
       "1  15/9-13   494.680  437641.96875  6470972.5 -469.653809  NORDLAND GP.   \n",
       "2  15/9-13   494.832  437641.96875  6470972.5 -469.805786  NORDLAND GP.   \n",
       "3  15/9-13   494.984  437641.96875  6470972.5 -469.957794  NORDLAND GP.   \n",
       "4  15/9-13   495.136  437641.96875  6470972.5 -470.109772  NORDLAND GP.   \n",
       "\n",
       "  FORMATION       CALI  RSHA      RMED  ...        ROP  DTS  DCAL      DRHO  \\\n",
       "0       NaN  19.480835   NaN  1.611410  ...  34.636410  NaN   NaN -0.574928   \n",
       "1       NaN  19.468800   NaN  1.618070  ...  34.636410  NaN   NaN -0.570188   \n",
       "2       NaN  19.468800   NaN  1.626459  ...  34.779556  NaN   NaN -0.574245   \n",
       "3       NaN  19.459282   NaN  1.621594  ...  39.965164  NaN   NaN -0.586315   \n",
       "4       NaN  19.453100   NaN  1.602679  ...  57.483765  NaN   NaN -0.597914   \n",
       "\n",
       "   MUDWEIGHT  RMIC  ROPA  RXO  FORCE_2020_LITHOFACIES_LITHOLOGY  \\\n",
       "0        NaN   NaN   NaN  NaN                             65000   \n",
       "1        NaN   NaN   NaN  NaN                             65000   \n",
       "2        NaN   NaN   NaN  NaN                             65000   \n",
       "3        NaN   NaN   NaN  NaN                             65000   \n",
       "4        NaN   NaN   NaN  NaN                             65000   \n",
       "\n",
       "   FORCE_2020_LITHOFACIES_CONFIDENCE  \n",
       "0                                1.0  \n",
       "1                                1.0  \n",
       "2                                1.0  \n",
       "3                                1.0  \n",
       "4                                1.0  \n",
       "\n",
       "[5 rows x 29 columns]"
      ]
     },
     "execution_count": 3,
     "metadata": {},
     "output_type": "execute_result"
    }
   ],
   "source": [
    "df.head()"
   ]
  },
  {
   "cell_type": "markdown",
   "metadata": {},
   "source": [
    "The data contains the metadata columns\n",
    "* WELL: well name\n",
    "* DEPTH_MD: measured depth\n",
    "* X_LOC: UTM X coordinate \n",
    "* Y_LOC: UTM Y coordinate\n",
    "* Z_LOC: DEPTH\n",
    "* GROUP: NPD lithostratigraphy group\n",
    "* FORMATION: NPD lithostratgraphy formation\n",
    "\n",
    "The data contains the well log curves. For example the following:\n",
    "* BS: Bit Size\n",
    "* CALI: Caliper\n",
    "* RDEP: Deep Resistivity\n",
    "* RHOB: Bulk Density\n",
    "* GR: Raw gamma data\n",
    "* SGR: Spectral Gamma Ray\n",
    "* RMED: Medium Resistivity\n",
    "* ROP: Rate of Penetration\n",
    "* NPHI: Neutron Porosity\n",
    "* PEF: Photoelectric Absorption Factor\n",
    "* RSHA: Shallow Resistivity\n",
    "* DTS: Sonic (Sheer Slowness)\n",
    "* DTC: Sonic (Compressional Slowness)\n",
    "\n",
    "See contest page for full list.\n",
    "\n",
    "as well as the interpretation\n",
    "\n",
    "* FORCE_2020_LITHOFACIES_LITHOLOGY: lithology class label\n",
    "* FORCE_2020_LITHOFACIES_CONFIDENCE: confidence in lithology interpretation (1: high, 2: medium, 3: low)"
   ]
  },
  {
   "cell_type": "markdown",
   "metadata": {},
   "source": [
    "### Labels: Lithology"
   ]
  },
  {
   "cell_type": "code",
   "execution_count": 5,
   "metadata": {},
   "outputs": [
    {
     "data": {
      "text/plain": [
       "array([65000, 30000, 65030, 70000, 99000, 80000, 86000, 74000, 70032,\n",
       "       90000, 88000, 93000], dtype=int64)"
      ]
     },
     "execution_count": 5,
     "metadata": {},
     "output_type": "execute_result"
    }
   ],
   "source": [
    "df['FORCE_2020_LITHOFACIES_LITHOLOGY'].unique()"
   ]
  },
  {
   "cell_type": "code",
   "execution_count": 6,
   "metadata": {},
   "outputs": [],
   "source": [
    "lithology_keys = {30000: 'Sandstone',\n",
    "                 65030: 'Sandstone/Shale',\n",
    "                 65000: 'Shale',\n",
    "                 80000: 'Marl',\n",
    "                 74000: 'Dolomite',\n",
    "                 70000: 'Limestone',\n",
    "                 70032: 'Chalk',\n",
    "                 88000: 'Halite',\n",
    "                 86000: 'Anhydrite',\n",
    "                 99000: 'Tuff',\n",
    "                 90000: 'Coal',\n",
    "                 93000: 'Basement'}"
   ]
  },
  {
   "cell_type": "code",
   "execution_count": 10,
   "metadata": {},
   "outputs": [
    {
     "data": {
      "image/png": "[encoded data removed]",
      "text/plain": [
       "<Figure size 1008x504 with 1 Axes>"
      ]
     },
     "metadata": {
      "needs_background": "light"
     },
     "output_type": "display_data"
    }
   ],
   "source": [
    "counts = df['FORCE_2020_LITHOFACIES_LITHOLOGY'].value_counts()\n",
    "names = []\n",
    "percentage = []\n",
    "N = df['FORCE_2020_LITHOFACIES_LITHOLOGY'].shape[0]\n",
    "for item in counts.iteritems():\n",
    "    names.append(lithology_keys[item[0]])\n",
    "    percentage.append(float(item[1])/N*100)\n",
    "fig, ax = plt.subplots(1, 1, figsize=(14, 7))\n",
    "ax.bar(x=np.arange(len(names)), height=percentage)\n",
    "ax.set_xticklabels(names, rotation=45)\n",
    "ax.set_xticks(np.arange(len(names)))\n",
    "ax.set_ylabel('Lithology presence (\\%)');"
   ]
  },
  {
   "cell_type": "markdown",
   "metadata": {},
   "source": [
    "### Missing Values"
   ]
  },
  {
   "cell_type": "code",
   "execution_count": 11,
   "metadata": {},
   "outputs": [
    {
     "data": {
      "text/plain": [
       "WELL                                       0\n",
       "DEPTH_MD                                   0\n",
       "X_LOC                                  10775\n",
       "Y_LOC                                  10775\n",
       "Z_LOC                                  10775\n",
       "GROUP                                   1278\n",
       "FORMATION                             136994\n",
       "CALI                                   87877\n",
       "RSHA                                  539861\n",
       "RMED                                   38993\n",
       "RDEP                                   11015\n",
       "RHOB                                  161269\n",
       "GR                                         0\n",
       "SGR                                  1101158\n",
       "NPHI                                  405102\n",
       "PEF                                   498819\n",
       "DTC                                    80863\n",
       "SP                                    306264\n",
       "BS                                    487854\n",
       "ROP                                   635440\n",
       "DTS                                   995898\n",
       "DCAL                                  871678\n",
       "DRHO                                  182654\n",
       "MUDWEIGHT                             854360\n",
       "RMIC                                  994351\n",
       "ROPA                                  978186\n",
       "RXO                                   843084\n",
       "FORCE_2020_LITHOFACIES_LITHOLOGY           0\n",
       "FORCE_2020_LITHOFACIES_CONFIDENCE        179\n",
       "dtype: int64"
      ]
     },
     "execution_count": 11,
     "metadata": {},
     "output_type": "execute_result"
    }
   ],
   "source": [
    "df.isna().sum()"
   ]
  },
  {
   "cell_type": "code",
   "execution_count": 12,
   "metadata": {},
   "outputs": [
    {
     "data": {
      "text/plain": [
       "1170511"
      ]
     },
     "execution_count": 12,
     "metadata": {},
     "output_type": "execute_result"
    }
   ],
   "source": [
    "len(df)"
   ]
  },
  {
   "cell_type": "markdown",
   "metadata": {},
   "source": [
    "Only WELL, DEPTH_md, GR, AND FORCE_2020_LITHOFACIES_LITHOLOGY have no missing values."
   ]
  },
  {
   "cell_type": "markdown",
   "metadata": {},
   "source": [
    "#### X_LOC, Y_LOC, and Z_LOC"
   ]
  },
  {
   "cell_type": "code",
   "execution_count": null,
   "metadata": {},
   "outputs": [],
   "source": []
  }
 ],
 "metadata": {
  "kernelspec": {
   "display_name": "learn-env",
   "language": "python",
   "name": "learn-env"
  },
  "language_info": {
   "codemirror_mode": {
    "name": "ipython",
    "version": 3
   },
   "file_extension": ".py",
   "mimetype": "text/x-python",
   "name": "python",
   "nbconvert_exporter": "python",
   "pygments_lexer": "ipython3",
   "version": "3.6.9"
  },
  "toc": {
   "base_numbering": 1,
   "nav_menu": {},
   "number_sections": true,
   "sideBar": true,
   "skip_h1_title": false,
   "title_cell": "Table of Contents",
   "title_sidebar": "Contents",
   "toc_cell": false,
   "toc_position": {},
   "toc_section_display": true,
   "toc_window_display": false
  }
 },
 "nbformat": 4,
 "nbformat_minor": 2
}
